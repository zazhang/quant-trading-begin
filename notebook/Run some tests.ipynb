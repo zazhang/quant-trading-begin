{
 "cells": [
  {
   "cell_type": "markdown",
   "metadata": {},
   "source": [
    "# Run some tests\n",
    "\n",
    "This notebook is for sketch purpose."
   ]
  },
  {
   "cell_type": "code",
   "execution_count": 1,
   "metadata": {},
   "outputs": [
    {
     "name": "stdout",
     "output_type": "stream",
     "text": [
      "Load modules successfully!\n"
     ]
    }
   ],
   "source": [
    "import pandas as pd\n",
    "import numpy as np\n",
    "from datetime import datetime\n",
    "\n",
    "print \"Load modules successfully!\""
   ]
  },
  {
   "cell_type": "markdown",
   "metadata": {},
   "source": [
    "## Test 1\n",
    "\n",
    "Generate a dataframe as following."
   ]
  },
  {
   "cell_type": "code",
   "execution_count": 8,
   "metadata": {},
   "outputs": [
    {
     "name": "stdout",
     "output_type": "stream",
     "text": [
      "            col1  col2  col3\n",
      "2018-01-01     2    25     0\n",
      "2018-01-02    30     0     0\n",
      "2018-01-03     0     0     9\n",
      "2018-01-04     0     0    70\n",
      "2018-01-05     0     5     0\n",
      "2018-01-06     0     0     8\n",
      "2018-01-07     1     5     0\n"
     ]
    }
   ],
   "source": [
    "df = pd.DataFrame({'col1':[2,30,0,0,0,0,1], 'col2':[25,0,0,0,5,0,5], 'col3':[0,0,9,70,0,8,0]})\n",
    "df.index = ['2018-01-01', '2018-01-02', '2018-01-03', '2018-01-04', '2018-01-05', '2018-01-06', '2018-01-07']\n",
    "print df"
   ]
  },
  {
   "cell_type": "markdown",
   "metadata": {},
   "source": [
    "In this test, we try to figure how to sort a dataframe, and select partial of it. For example, we sort above dataframe, and select the second lowest of each row and change it to zero."
   ]
  },
  {
   "cell_type": "code",
   "execution_count": 9,
   "metadata": {},
   "outputs": [
    {
     "data": {
      "text/html": [
       "<div>\n",
       "<style scoped>\n",
       "    .dataframe tbody tr th:only-of-type {\n",
       "        vertical-align: middle;\n",
       "    }\n",
       "\n",
       "    .dataframe tbody tr th {\n",
       "        vertical-align: top;\n",
       "    }\n",
       "\n",
       "    .dataframe thead th {\n",
       "        text-align: right;\n",
       "    }\n",
       "</style>\n",
       "<table border=\"1\" class=\"dataframe\">\n",
       "  <thead>\n",
       "    <tr style=\"text-align: right;\">\n",
       "      <th></th>\n",
       "      <th>col1</th>\n",
       "      <th>col2</th>\n",
       "      <th>col3</th>\n",
       "    </tr>\n",
       "  </thead>\n",
       "  <tbody>\n",
       "    <tr>\n",
       "      <th>2018-01-01</th>\n",
       "      <td>2</td>\n",
       "      <td>25</td>\n",
       "      <td>0</td>\n",
       "    </tr>\n",
       "    <tr>\n",
       "      <th>2018-01-02</th>\n",
       "      <td>30</td>\n",
       "      <td>0</td>\n",
       "      <td>0</td>\n",
       "    </tr>\n",
       "    <tr>\n",
       "      <th>2018-01-03</th>\n",
       "      <td>0</td>\n",
       "      <td>0</td>\n",
       "      <td>9</td>\n",
       "    </tr>\n",
       "    <tr>\n",
       "      <th>2018-01-04</th>\n",
       "      <td>0</td>\n",
       "      <td>0</td>\n",
       "      <td>70</td>\n",
       "    </tr>\n",
       "    <tr>\n",
       "      <th>2018-01-05</th>\n",
       "      <td>0</td>\n",
       "      <td>5</td>\n",
       "      <td>0</td>\n",
       "    </tr>\n",
       "    <tr>\n",
       "      <th>2018-01-06</th>\n",
       "      <td>0</td>\n",
       "      <td>0</td>\n",
       "      <td>8</td>\n",
       "    </tr>\n",
       "    <tr>\n",
       "      <th>2018-01-07</th>\n",
       "      <td>1</td>\n",
       "      <td>5</td>\n",
       "      <td>0</td>\n",
       "    </tr>\n",
       "  </tbody>\n",
       "</table>\n",
       "</div>"
      ],
      "text/plain": [
       "            col1  col2  col3\n",
       "2018-01-01     2    25     0\n",
       "2018-01-02    30     0     0\n",
       "2018-01-03     0     0     9\n",
       "2018-01-04     0     0    70\n",
       "2018-01-05     0     5     0\n",
       "2018-01-06     0     0     8\n",
       "2018-01-07     1     5     0"
      ]
     },
     "execution_count": 9,
     "metadata": {},
     "output_type": "execute_result"
    }
   ],
   "source": [
    "df.sort_index()"
   ]
  },
  {
   "cell_type": "code",
   "execution_count": 25,
   "metadata": {},
   "outputs": [
    {
     "name": "stdout",
     "output_type": "stream",
     "text": [
      "            col1  col2  col3\n",
      "2018-01-01     2     0     0\n",
      "2018-01-02    30     0     0\n",
      "2018-01-03     0     0     9\n",
      "2018-01-04     0     0    70\n",
      "2018-01-05     0     5     0\n",
      "2018-01-06     0     0     8\n",
      "2018-01-07     1     5     0\n",
      "Index([u'col1', u'col2'], dtype='object')\n",
      "2018-01-01\n",
      "            col1  col2  col3\n",
      "2018-01-01     2     0     0\n",
      "2018-01-02    30     0     0\n",
      "2018-01-03     0     0     9\n",
      "2018-01-04     0     0    70\n",
      "2018-01-05     0     0     0\n",
      "2018-01-06     0     0     8\n",
      "2018-01-07     1     0     0\n",
      "Index([u'col1', u'col2'], dtype='object')\n",
      "2018-01-07\n"
     ]
    }
   ],
   "source": [
    "tempdf = df\n",
    "idx = df.index\n",
    "for i in xrange(len(idx)):\n",
    "    temp_idx = idx[i]\n",
    "    temp_row = df.loc[temp_idx]\n",
    "    temp_row.sort_values()\n",
    "    sorted_nonzero_row = temp_row.iloc[temp_row.nonzero()[0]] # get values of all nonzero elements\n",
    "    if len(sorted_nonzero_row) > 1:\n",
    "        for x in temp_row:\n",
    "            if x > sorted_nonzero_row[0]:\n",
    "                tempdf = tempdf.replace(x, 0)\n",
    "                print tempdf"
   ]
  }
 ],
 "metadata": {
  "kernelspec": {
   "display_name": "qt",
   "language": "python",
   "name": "qt"
  },
  "language_info": {
   "codemirror_mode": {
    "name": "ipython",
    "version": 2
   },
   "file_extension": ".py",
   "mimetype": "text/x-python",
   "name": "python",
   "nbconvert_exporter": "python",
   "pygments_lexer": "ipython2",
   "version": "2.7.15"
  }
 },
 "nbformat": 4,
 "nbformat_minor": 2
}
